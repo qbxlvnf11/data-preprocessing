{
 "cells": [
  {
   "cell_type": "markdown",
   "id": "d2825608",
   "metadata": {},
   "source": [
    "## - Excel File Builder Class"
   ]
  },
  {
   "cell_type": "code",
   "execution_count": 1,
   "id": "e6fc1e6d",
   "metadata": {},
   "outputs": [],
   "source": [
    "import openpyxl"
   ]
  },
  {
   "cell_type": "code",
   "execution_count": 2,
   "id": "303df59e",
   "metadata": {},
   "outputs": [],
   "source": [
    "class ExcelBuilder:\n",
    "    def __init__(self, filename):\n",
    "        self.workbook = openpyxl.Workbook()\n",
    "        self.filename = filename\n",
    "\n",
    "    def add_sheet(self, sheet_name):\n",
    "        sheet = self.workbook.create_sheet(sheet_name)\n",
    "        return sheet\n",
    "\n",
    "    def write_data(self, sheet, data, start_row=1, start_col=1):\n",
    "        for row_idx, row in enumerate(data):\n",
    "            for col_idx, value in enumerate(row):\n",
    "                sheet.cell(row=start_row + row_idx, column=start_col + col_idx).value = value\n",
    "\n",
    "    def save(self):\n",
    "        self.workbook.save(self.filename)\n",
    "        \n",
    "    def delete_sheet(self, sheet_name):\n",
    "        if sheet_name in self.workbook.sheetnames:\n",
    "            del self.workbook[sheet_name]\n",
    "        else:\n",
    "            raise KeyError(f\"Sheet '{sheet_name}' does not exist in the workbook.\")"
   ]
  },
  {
   "cell_type": "markdown",
   "id": "14f2988e",
   "metadata": {},
   "source": [
    "## - Build Excel File"
   ]
  },
  {
   "cell_type": "markdown",
   "id": "71369dea",
   "metadata": {},
   "source": [
    "#### - Define excel builder"
   ]
  },
  {
   "cell_type": "code",
   "execution_count": 3,
   "id": "be9569ff",
   "metadata": {},
   "outputs": [],
   "source": [
    "excel_file_path = \"./example.xlsx\""
   ]
  },
  {
   "cell_type": "code",
   "execution_count": 4,
   "id": "6ccd6390",
   "metadata": {},
   "outputs": [],
   "source": [
    "builder = ExcelBuilder(excel_file_path)"
   ]
  },
  {
   "cell_type": "markdown",
   "id": "047ac159",
   "metadata": {},
   "source": [
    "#### - Delete sheet"
   ]
  },
  {
   "cell_type": "code",
   "execution_count": 5,
   "id": "79dc8d25",
   "metadata": {},
   "outputs": [],
   "source": [
    "builder.delete_sheet('Sheet')"
   ]
  },
  {
   "cell_type": "markdown",
   "id": "664d4e66",
   "metadata": {},
   "source": [
    "#### - Add sheet"
   ]
  },
  {
   "cell_type": "code",
   "execution_count": 6,
   "id": "007064de",
   "metadata": {},
   "outputs": [],
   "source": [
    "sheet1 = builder.add_sheet(\"Sheet1\")\n",
    "sheet2 = builder.add_sheet(\"Sheet2\")"
   ]
  },
  {
   "cell_type": "markdown",
   "id": "83717e1e",
   "metadata": {},
   "source": [
    "#### - Write data to each sheet"
   ]
  },
  {
   "cell_type": "code",
   "execution_count": 7,
   "id": "12d574f3",
   "metadata": {},
   "outputs": [],
   "source": [
    "sheet1_data = [\n",
    "    [\"Name\", \"Age\", \"City\"],\n",
    "    [\"A\", 1, \"C\"],\n",
    "    [\"B\", 2, \"D\"],\n",
    "]"
   ]
  },
  {
   "cell_type": "code",
   "execution_count": 8,
   "id": "85046493",
   "metadata": {},
   "outputs": [],
   "source": [
    "sheet2_data = [\n",
    "    [1, 2, 3],\n",
    "    [4, 5, 6],\n",
    "    [7, 8, 9],\n",
    "]"
   ]
  },
  {
   "cell_type": "code",
   "execution_count": 9,
   "id": "33471714",
   "metadata": {},
   "outputs": [],
   "source": [
    "builder.write_data(sheet1, sheet1_data)"
   ]
  },
  {
   "cell_type": "code",
   "execution_count": 10,
   "id": "f4b57352",
   "metadata": {},
   "outputs": [],
   "source": [
    "# Starting from the second row and second column`\n",
    "builder.write_data(sheet2, sheet2_data, start_row=2, start_col=2)"
   ]
  },
  {
   "cell_type": "markdown",
   "id": "5c768f96",
   "metadata": {},
   "source": [
    "#### - Save file"
   ]
  },
  {
   "cell_type": "code",
   "execution_count": 11,
   "id": "ed4dc4b5",
   "metadata": {},
   "outputs": [
    {
     "name": "stdout",
     "output_type": "stream",
     "text": [
      "Excel file created successfully!\n"
     ]
    }
   ],
   "source": [
    "builder.save()\n",
    "print(\"Excel file created successfully!\")"
   ]
  }
 ],
 "metadata": {
  "kernelspec": {
   "display_name": "Python 3 (ipykernel)",
   "language": "python",
   "name": "python3"
  },
  "language_info": {
   "codemirror_mode": {
    "name": "ipython",
    "version": 3
   },
   "file_extension": ".py",
   "mimetype": "text/x-python",
   "name": "python",
   "nbconvert_exporter": "python",
   "pygments_lexer": "ipython3",
   "version": "3.9.12"
  }
 },
 "nbformat": 4,
 "nbformat_minor": 5
}
