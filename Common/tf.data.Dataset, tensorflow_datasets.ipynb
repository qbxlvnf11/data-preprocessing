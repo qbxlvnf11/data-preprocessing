{
 "cells": [
  {
   "cell_type": "markdown",
   "metadata": {},
   "source": [
    "# Tensorflow에서 데이터 사용하기: tf.data.Dataset, tensorflow_datasets"
   ]
  },
  {
   "cell_type": "markdown",
   "metadata": {},
   "source": [
    "#### - Library import"
   ]
  },
  {
   "cell_type": "code",
   "execution_count": 1,
   "metadata": {},
   "outputs": [],
   "source": [
    "import tensorflow as tf\n",
    "import tensorflow_datasets as tfds"
   ]
  },
  {
   "cell_type": "code",
   "execution_count": 2,
   "metadata": {},
   "outputs": [
    {
     "data": {
      "text/plain": [
       "'2.0.0'"
      ]
     },
     "execution_count": 2,
     "metadata": {},
     "output_type": "execute_result"
    }
   ],
   "source": [
    "tf.__version__"
   ]
  },
  {
   "cell_type": "markdown",
   "metadata": {},
   "source": [
    "#### - List the available datasets in tensorflow_datasets"
   ]
  },
  {
   "cell_type": "code",
   "execution_count": 3,
   "metadata": {},
   "outputs": [
    {
     "data": {
      "text/plain": [
       "['abstract_reasoning',\n",
       " 'aeslc',\n",
       " 'aflw2k3d',\n",
       " 'amazon_us_reviews',\n",
       " 'arc',\n",
       " 'bair_robot_pushing_small',\n",
       " 'beans',\n",
       " 'big_patent',\n",
       " 'bigearthnet',\n",
       " 'billsum',\n",
       " 'binarized_mnist',\n",
       " 'binary_alpha_digits',\n",
       " 'c4',\n",
       " 'caltech101',\n",
       " 'caltech_birds2010',\n",
       " 'caltech_birds2011',\n",
       " 'cars196',\n",
       " 'cassava',\n",
       " 'cats_vs_dogs',\n",
       " 'celeb_a',\n",
       " 'celeb_a_hq',\n",
       " 'cfq',\n",
       " 'chexpert',\n",
       " 'cifar10',\n",
       " 'cifar100',\n",
       " 'cifar10_1',\n",
       " 'cifar10_corrupted',\n",
       " 'citrus_leaves',\n",
       " 'cityscapes',\n",
       " 'civil_comments',\n",
       " 'clevr',\n",
       " 'cmaterdb',\n",
       " 'cnn_dailymail',\n",
       " 'coco',\n",
       " 'coil100',\n",
       " 'colorectal_histology',\n",
       " 'colorectal_histology_large',\n",
       " 'cos_e',\n",
       " 'curated_breast_imaging_ddsm',\n",
       " 'cycle_gan',\n",
       " 'deep_weeds',\n",
       " 'definite_pronoun_resolution',\n",
       " 'diabetic_retinopathy_detection',\n",
       " 'div2k',\n",
       " 'dmlab',\n",
       " 'downsampled_imagenet',\n",
       " 'dsprites',\n",
       " 'dtd',\n",
       " 'duke_ultrasound',\n",
       " 'dummy_dataset_shared_generator',\n",
       " 'dummy_mnist',\n",
       " 'emnist',\n",
       " 'eraser_multi_rc',\n",
       " 'esnli',\n",
       " 'eurosat',\n",
       " 'fashion_mnist',\n",
       " 'flic',\n",
       " 'flores',\n",
       " 'food101',\n",
       " 'gap',\n",
       " 'gigaword',\n",
       " 'glue',\n",
       " 'groove',\n",
       " 'higgs',\n",
       " 'horses_or_humans',\n",
       " 'i_naturalist2017',\n",
       " 'image_label_folder',\n",
       " 'imagenet2012',\n",
       " 'imagenet2012_corrupted',\n",
       " 'imagenet_resized',\n",
       " 'imagenette',\n",
       " 'imagewang',\n",
       " 'imdb_reviews',\n",
       " 'iris',\n",
       " 'kitti',\n",
       " 'kmnist',\n",
       " 'lfw',\n",
       " 'librispeech',\n",
       " 'librispeech_lm',\n",
       " 'libritts',\n",
       " 'lm1b',\n",
       " 'lost_and_found',\n",
       " 'lsun',\n",
       " 'malaria',\n",
       " 'math_dataset',\n",
       " 'mnist',\n",
       " 'mnist_corrupted',\n",
       " 'movie_rationales',\n",
       " 'moving_mnist',\n",
       " 'multi_news',\n",
       " 'multi_nli',\n",
       " 'multi_nli_mismatch',\n",
       " 'natural_questions',\n",
       " 'newsroom',\n",
       " 'nsynth',\n",
       " 'omniglot',\n",
       " 'open_images_v4',\n",
       " 'opinosis',\n",
       " 'oxford_flowers102',\n",
       " 'oxford_iiit_pet',\n",
       " 'para_crawl',\n",
       " 'patch_camelyon',\n",
       " 'pet_finder',\n",
       " 'places365_small',\n",
       " 'plant_leaves',\n",
       " 'plant_village',\n",
       " 'plantae_k',\n",
       " 'qa4mre',\n",
       " 'quickdraw_bitmap',\n",
       " 'reddit_tifu',\n",
       " 'resisc45',\n",
       " 'rock_paper_scissors',\n",
       " 'rock_you',\n",
       " 'scan',\n",
       " 'scene_parse150',\n",
       " 'scicite',\n",
       " 'scientific_papers',\n",
       " 'shapes3d',\n",
       " 'smallnorb',\n",
       " 'snli',\n",
       " 'so2sat',\n",
       " 'speech_commands',\n",
       " 'squad',\n",
       " 'stanford_dogs',\n",
       " 'stanford_online_products',\n",
       " 'starcraft_video',\n",
       " 'sun397',\n",
       " 'super_glue',\n",
       " 'svhn_cropped',\n",
       " 'ted_hrlr_translate',\n",
       " 'ted_multi_translate',\n",
       " 'tf_flowers',\n",
       " 'the300w_lp',\n",
       " 'tiny_shakespeare',\n",
       " 'titanic',\n",
       " 'trivia_qa',\n",
       " 'uc_merced',\n",
       " 'ucf101',\n",
       " 'vgg_face2',\n",
       " 'visual_domain_decathlon',\n",
       " 'voc',\n",
       " 'wider_face',\n",
       " 'wikihow',\n",
       " 'wikipedia',\n",
       " 'wmt14_translate',\n",
       " 'wmt15_translate',\n",
       " 'wmt16_translate',\n",
       " 'wmt17_translate',\n",
       " 'wmt18_translate',\n",
       " 'wmt19_translate',\n",
       " 'wmt_t2t_translate',\n",
       " 'wmt_translate',\n",
       " 'xnli',\n",
       " 'xsum',\n",
       " 'yelp_polarity_reviews']"
      ]
     },
     "execution_count": 3,
     "metadata": {},
     "output_type": "execute_result"
    }
   ],
   "source": [
    "tfds.list_builders()"
   ]
  },
  {
   "cell_type": "markdown",
   "metadata": {},
   "source": [
    "### ▶ tfds.builder 함수, tfds.load 함수: tf.data.Dataset 구축 기능 제공"
   ]
  },
  {
   "cell_type": "markdown",
   "metadata": {},
   "source": [
    "#### - tfds.builder 사용\n",
    "   - split: train, test 데이터셋 선택"
   ]
  },
  {
   "cell_type": "code",
   "execution_count": 4,
   "metadata": {},
   "outputs": [],
   "source": [
    "imdb_builder = tfds.builder(\"imdb_reviews\")\n",
    "imdb_builder.download_and_prepare()\n",
    "imdb_train = imdb_builder.as_dataset(split=\"train\")\n",
    "imdb_test = imdb_builder.as_dataset(split=\"test\")"
   ]
  },
  {
   "cell_type": "markdown",
   "metadata": {},
   "source": [
    "#### - 데이터 정보"
   ]
  },
  {
   "cell_type": "code",
   "execution_count": 5,
   "metadata": {},
   "outputs": [],
   "source": [
    "imdb_info = imdb_builder.info"
   ]
  },
  {
   "cell_type": "code",
   "execution_count": 6,
   "metadata": {},
   "outputs": [
    {
     "data": {
      "text/plain": [
       "FeaturesDict({\n",
       "    'label': ClassLabel(shape=(), dtype=tf.int64, num_classes=2),\n",
       "    'text': Text(shape=(), dtype=tf.string),\n",
       "})"
      ]
     },
     "execution_count": 6,
     "metadata": {},
     "output_type": "execute_result"
    }
   ],
   "source": [
    "imdb_info.features"
   ]
  },
  {
   "cell_type": "markdown",
   "metadata": {},
   "source": [
    "#### - tfds.load 사용\n",
    "   - with_info: info 같이 load 할지에 대한 여부\n",
    "   - as_supervised\n",
    "       - True: tf.data.Dataset 2-tuple structure\n",
    "       - False: tf.data.Dataset dictionary"
   ]
  },
  {
   "cell_type": "code",
   "execution_count": 7,
   "metadata": {},
   "outputs": [],
   "source": [
    "imdb_ds, imdb_info = tfds.load('imdb_reviews/subwords8k', with_info=True,\n",
    "                          as_supervised=True)\n",
    "imdb_train, imdb_test = imdb_ds['train'], imdb_ds['test']"
   ]
  },
  {
   "cell_type": "markdown",
   "metadata": {},
   "source": [
    "#### - 데이터 정보"
   ]
  },
  {
   "cell_type": "code",
   "execution_count": 8,
   "metadata": {},
   "outputs": [
    {
     "data": {
      "text/plain": [
       "FeaturesDict({\n",
       "    'label': ClassLabel(shape=(), dtype=tf.int64, num_classes=2),\n",
       "    'text': Text(shape=(None,), dtype=tf.int64, encoder=<SubwordTextEncoder vocab_size=8185>),\n",
       "})"
      ]
     },
     "execution_count": 8,
     "metadata": {},
     "output_type": "execute_result"
    }
   ],
   "source": [
    "imdb_info.features"
   ]
  },
  {
   "cell_type": "markdown",
   "metadata": {},
   "source": [
    "#### - Subword encoder"
   ]
  },
  {
   "cell_type": "code",
   "execution_count": 9,
   "metadata": {},
   "outputs": [],
   "source": [
    "encoder = imdb_info.features['text'].encoder"
   ]
  },
  {
   "cell_type": "code",
   "execution_count": 10,
   "metadata": {
    "collapsed": true
   },
   "outputs": [
    {
     "data": {
      "text/plain": [
       "['the_',\n",
       " ', ',\n",
       " '. ',\n",
       " 'a_',\n",
       " 'and_',\n",
       " 'of_',\n",
       " 'to_',\n",
       " 's_',\n",
       " 'is_',\n",
       " 'br',\n",
       " 'in_',\n",
       " 'I_',\n",
       " 'that_',\n",
       " 'this_',\n",
       " 'it_',\n",
       " ' /><',\n",
       " ' />',\n",
       " 'was_',\n",
       " 'The_',\n",
       " 'as_']"
      ]
     },
     "execution_count": 10,
     "metadata": {},
     "output_type": "execute_result"
    }
   ],
   "source": [
    "encoder.subwords[:20]"
   ]
  },
  {
   "cell_type": "code",
   "execution_count": 11,
   "metadata": {},
   "outputs": [
    {
     "data": {
      "text/plain": [
       "8185"
      ]
     },
     "execution_count": 11,
     "metadata": {},
     "output_type": "execute_result"
    }
   ],
   "source": [
    "encoder.vocab_size"
   ]
  },
  {
   "cell_type": "markdown",
   "metadata": {},
   "source": [
    "#### - Subword encoding"
   ]
  },
  {
   "cell_type": "code",
   "execution_count": 12,
   "metadata": {},
   "outputs": [],
   "source": [
    "sample_string = 'Hello TensorFlow.'"
   ]
  },
  {
   "cell_type": "code",
   "execution_count": 13,
   "metadata": {},
   "outputs": [],
   "source": [
    "encoded_string = encoder.encode(sample_string)"
   ]
  },
  {
   "cell_type": "code",
   "execution_count": 14,
   "metadata": {},
   "outputs": [
    {
     "data": {
      "text/plain": [
       "'Encoded string is [4025, 222, 6307, 2327, 4043, 2120, 7975]'"
      ]
     },
     "execution_count": 14,
     "metadata": {},
     "output_type": "execute_result"
    }
   ],
   "source": [
    "'Encoded string is {}'.format(encoded_string)"
   ]
  },
  {
   "cell_type": "markdown",
   "metadata": {},
   "source": [
    "#### - Subword decoding"
   ]
  },
  {
   "cell_type": "code",
   "execution_count": 15,
   "metadata": {},
   "outputs": [],
   "source": [
    "original_string = encoder.decode(encoded_string)"
   ]
  },
  {
   "cell_type": "code",
   "execution_count": 16,
   "metadata": {},
   "outputs": [
    {
     "data": {
      "text/plain": [
       "'The original string: \"Hello TensorFlow.\"'"
      ]
     },
     "execution_count": 16,
     "metadata": {},
     "output_type": "execute_result"
    }
   ],
   "source": [
    "'The original string: \"{}\"'.format(original_string)"
   ]
  },
  {
   "cell_type": "code",
   "execution_count": 17,
   "metadata": {},
   "outputs": [
    {
     "name": "stdout",
     "output_type": "stream",
     "text": [
      "4025 ----> Hell\n",
      "222 ----> o \n",
      "6307 ----> Ten\n",
      "2327 ----> sor\n",
      "4043 ----> Fl\n",
      "2120 ----> ow\n",
      "7975 ----> .\n"
     ]
    }
   ],
   "source": [
    "for index in encoded_string:\n",
    "    print('{} ----> {}'.format(index, encoder.decode([index])))"
   ]
  },
  {
   "cell_type": "markdown",
   "metadata": {},
   "source": [
    "#### - take\n",
    "   - 인자로 입력된 수만큼 데이터 불러오기"
   ]
  },
  {
   "cell_type": "code",
   "execution_count": 18,
   "metadata": {
    "scrolled": true
   },
   "outputs": [
    {
     "name": "stdout",
     "output_type": "stream",
     "text": [
      "tf.Tensor(\n",
      "[  62   18   41  604  927   65    3  644 7968   21   35 5096   36   11\n",
      "   43 2948 5240  102   50  681 7862 1244    3 3266   29  122  640    2\n",
      "   26   14  279  438   35   79  349  384   11 1991    3  492   79  122\n",
      "  188  117   33 4047 4531   14   65 7968    8 1819 3947    3   62   27\n",
      "    9   41  577 5044 2629 2552 7193 7961 3642    3   19  107 3903  225\n",
      "   85  198   72    1 1512  738 2347  102 6245    8   85  308   79 6936\n",
      " 7961   23 4981 8044    3 6429 7961 1141 1335 1848 4848   55 3601 4217\n",
      " 8050    2    5   59 3831 1484 8040 7974  174 5773   22 5240  102   18\n",
      "  247   26    4 3903 1612 3902  291   11    4   27   13   18 4092 4008\n",
      " 7961    6  119  213 2774    3   12  258 2306   13   91   29  171   52\n",
      "  229    2 1245 5790  995 7968    8   52 2948 5240 8039 7968    8   74\n",
      " 1249    3   12  117 2438 1369  192   39 7975], shape=(163,), dtype=int64)\n",
      "tf.Tensor(0, shape=(), dtype=int64)\n",
      "tf.Tensor(\n",
      "[  12   31   93  867    7 1256 6585 7961  421  365    2   26   14    9\n",
      "  988 1089    7    4 6728    6  276 5760 2587    2   81 6118 8029    2\n",
      "  139 1892 7961    5 5402  246   25    1 1771  350    5  369   56 5397\n",
      "  102    4 2547    3 4001   25   14 7822  209   12 3531 6585 7961   99\n",
      "    1   32   18 4762    3   19  184 3223   18 5855 1045    3 4232 3337\n",
      "   64 1347    5 1190    3 4459    8  614    7 3129    2   26   22   84\n",
      " 7020    6   71   18 4924 1160  161   50 2265    3   12 3983    2   12\n",
      "  264   31 2545  261    6    1   66    2   26  131  393    1 5846    6\n",
      "   15    5  473   56  614    7 1470    6  116  285 4755 2088 7961  273\n",
      "  119  213 3414 7961   23  332 1019    3   12 7667  505   14   32   44\n",
      "  208 7975], shape=(142,), dtype=int64)\n",
      "tf.Tensor(0, shape=(), dtype=int64)\n"
     ]
    }
   ],
   "source": [
    "for ex in imdb_train.take(2):\n",
    "#     print(ex)\n",
    "#     print(ex['label'])\n",
    "#     print(ex['text'])\n",
    "    print(ex[0])\n",
    "    print(ex[1])"
   ]
  },
  {
   "cell_type": "markdown",
   "metadata": {},
   "source": [
    "### ▶ Input pipelines"
   ]
  },
  {
   "cell_type": "markdown",
   "metadata": {},
   "source": [
    "#### - batch\n",
    "   - 인자로 입력된 batch size로 데이터 구성\n",
    "   - batch size로 데이터 구성 후 take 함수 사용시 batch size가 기본 단위로 변경"
   ]
  },
  {
   "cell_type": "markdown",
   "metadata": {},
   "source": [
    "#### - padded_batch\n",
    "   - batch with padding\n",
    "   - padded_shapes: padding size (None or integer)"
   ]
  },
  {
   "cell_type": "code",
   "execution_count": 19,
   "metadata": {},
   "outputs": [],
   "source": [
    "BATCH_SIZE = 2"
   ]
  },
  {
   "cell_type": "code",
   "execution_count": 20,
   "metadata": {},
   "outputs": [],
   "source": [
    "# batch_imdb_train = imdb_train.repeat().shuffle(1024).batch(BATCH_SIZE)"
   ]
  },
  {
   "cell_type": "markdown",
   "metadata": {},
   "source": [
    "- padded_shapes = None\n",
    "   - maximum length of all elments in that dimension"
   ]
  },
  {
   "cell_type": "code",
   "execution_count": 21,
   "metadata": {},
   "outputs": [],
   "source": [
    "batch_imdb_train = imdb_train.repeat().shuffle(1024).padded_batch(BATCH_SIZE, padded_shapes=([None],[]))"
   ]
  },
  {
   "cell_type": "code",
   "execution_count": 22,
   "metadata": {
    "collapsed": true
   },
   "outputs": [
    {
     "name": "stdout",
     "output_type": "stream",
     "text": [
      "tf.Tensor(\n",
      "[[2960 7978 7976  391 3840 7961  234 4412 1412  597   12  258   33 4863\n",
      "  7961   22    1  315   13   14    9   41 1301 6334 7961  489   20   63\n",
      "  6477   31 2699  104    2   15  180   35 1893 8029    2   20   15  241\n",
      "     7 7291   49   11  143 8010 1365 5182 2248    8 5716 7961  706 8044\n",
      "     3  468    2   14   18    4   27   20    4 1234   13   12   18    4\n",
      "  3182 2603 7961 5002  127  234  137 5098   11  683  338   13   15   18\n",
      "   126   23 1515    2   12 1728   15   25    4 6288 7961 4249 8044    3\n",
      "    19   98    9    6 1133   25 1265  895 2243 4726   41 4627 7809 7961\n",
      "  1944    2    5 1520  447  630  576 7974 7968 8039 7974 6298 7961   23\n",
      "  3224   22 3961    8  178   20 7809 1846    8    5  108 4205  991 4978\n",
      "     2   20 1609  351 2639    5 2062  101 6094 7961 1265  895 2243 2995\n",
      "  8044    3  156   12   80 1515    2   14  600    9    4   32   12   70\n",
      "   490    5   92  161 1750  179    2   20    1 7809 7961 1944 7961 1647\n",
      "   514   40  105   72   12   18 2554    2    5   12  129   78 1133 3154\n",
      "    70 3973    2 3941 7404 7961   22 1418 8049 1218    5   51    1 2936\n",
      "  4753    2  594   12  258   61    6 4840    5   56  109 7968   21 1552\n",
      "    39    3  147 7855    2    1   65 7968    8 1734    9 4518 4105 2766\n",
      "  2014    5    4 2344   45   44  142    2   23 1515   28    5 5894 7726\n",
      "  8030 2225]\n",
      " [  19  294 3175 2323 8003    3 5110  542   57 2411   11 5376 4265 6032\n",
      "   319    4 1409 7974 1171 5730 1203 4741   13 3838    8    5 3032 7096\n",
      "  7961    1 1020  221   10   16   10   17 3175 2323 8003    3 5110  542\n",
      "  7843    8    7 2099    1 2417    6   71 1106    7    1 3698 5694  194\n",
      "  5195 3489   21 1205 1406 2524  234  130  396  120  206  130  388 4721\n",
      "  1132  120   72   37 7879 7961    1 2967 2742    8  234  130 6326  120\n",
      "   206  130 1582 1581 7989   10   16   10   17   19 2227 1699  105    7\n",
      "   202   13   82 2572    6  138  117   33 1531   92  119 1559  167   24\n",
      "    10   16   10   17  373    5    4  531 1837   24   10   16   10   17\n",
      "  8009 7975 8012    3 3281   11   14   27  205  119 1136    2    1 5758\n",
      "   413 3817  436 6777    8   29 3364   61 3383 4199  246    5    1 5570\n",
      "  2270 5177    8   29  569   25 5204 7975    0    0    0    0    0    0\n",
      "     0    0    0    0    0    0    0    0    0    0    0    0    0    0\n",
      "     0    0    0    0    0    0    0    0    0    0    0    0    0    0\n",
      "     0    0    0    0    0    0    0    0    0    0    0    0    0    0\n",
      "     0    0    0    0    0    0    0    0    0    0    0    0    0    0\n",
      "     0    0    0    0    0    0    0    0    0    0    0    0    0    0\n",
      "     0    0    0    0    0    0    0    0    0    0    0    0    0    0\n",
      "     0    0]], shape=(2, 254), dtype=int64)\n",
      "tf.Tensor([1 0], shape=(2,), dtype=int64)\n",
      "(254,)\n",
      "(254,)\n",
      "\n",
      "tf.Tensor(\n",
      "[[ 597   11    4 ...   22  220 7962]\n",
      " [  62   27    9 ...    0    0    0]], shape=(2, 539), dtype=int64)\n",
      "tf.Tensor([1 0], shape=(2,), dtype=int64)\n",
      "(539,)\n",
      "(539,)\n",
      "\n"
     ]
    }
   ],
   "source": [
    "for ex in batch_imdb_train.take(2):\n",
    "    print(ex[0])\n",
    "    print(ex[1])\n",
    "    # pad size\n",
    "    print(ex[0][0].shape)\n",
    "    print(ex[0][1].shape)\n",
    "    print()"
   ]
  },
  {
   "cell_type": "markdown",
   "metadata": {},
   "source": [
    "- padded_shapes = int\n",
    "   - the component will be padded out to that length in that dimension."
   ]
  },
  {
   "cell_type": "code",
   "execution_count": 23,
   "metadata": {},
   "outputs": [],
   "source": [
    "batch_imdb_train = imdb_train.repeat().shuffle(1024).padded_batch(BATCH_SIZE, padded_shapes=([700],[]))"
   ]
  },
  {
   "cell_type": "code",
   "execution_count": 24,
   "metadata": {
    "collapsed": true
   },
   "outputs": [
    {
     "name": "stdout",
     "output_type": "stream",
     "text": [
      "tf.Tensor(\n",
      "[[6347 7961 2568 ...    0    0    0]\n",
      " [6072 6143 5814 ...    0    0    0]], shape=(2, 700), dtype=int64)\n",
      "tf.Tensor([0 1], shape=(2,), dtype=int64)\n",
      "(700,)\n",
      "(700,)\n",
      "\n",
      "tf.Tensor(\n",
      "[[7732    9   81 ...    0    0    0]\n",
      " [2080 1551    2 ...    0    0    0]], shape=(2, 700), dtype=int64)\n",
      "tf.Tensor([0 0], shape=(2,), dtype=int64)\n",
      "(700,)\n",
      "(700,)\n",
      "\n"
     ]
    }
   ],
   "source": [
    "for ex in batch_imdb_train.take(2):\n",
    "    print(ex[0])\n",
    "    print(ex[1])\n",
    "    # pad size\n",
    "    print(ex[0][0].shape)\n",
    "    print(ex[0][1].shape)\n",
    "    print()"
   ]
  },
  {
   "cell_type": "markdown",
   "metadata": {},
   "source": [
    "### ▶ Data example visualization"
   ]
  },
  {
   "cell_type": "code",
   "execution_count": 25,
   "metadata": {},
   "outputs": [],
   "source": [
    "mnist_builder = tfds.builder(\"mnist\")\n",
    "mnist_builder.download_and_prepare()\n",
    "mnist_train = mnist_builder.as_dataset(split=\"train\")"
   ]
  },
  {
   "cell_type": "code",
   "execution_count": 26,
   "metadata": {},
   "outputs": [],
   "source": [
    "mnist_info = mnist_builder.info"
   ]
  },
  {
   "cell_type": "code",
   "execution_count": 28,
   "metadata": {},
   "outputs": [
    {
     "data": {
      "image/png": "[encoded data removed]",
      "text/plain": [
       "<Figure size 648x648 with 9 Axes>"
      ]
     },
     "metadata": {},
     "output_type": "display_data"
    }
   ],
   "source": [
    "from matplotlib import pyplot as plt\n",
    "\n",
    "fig = tfds.show_examples(mnist_info, mnist_train)"
   ]
  },
  {
   "cell_type": "code",
   "execution_count": null,
   "metadata": {},
   "outputs": [],
   "source": []
  }
 ],
 "metadata": {
  "kernelspec": {
   "display_name": "Python 3",
   "language": "python",
   "name": "python3"
  },
  "language_info": {
   "codemirror_mode": {
    "name": "ipython",
    "version": 3
   },
   "file_extension": ".py",
   "mimetype": "text/x-python",
   "name": "python",
   "nbconvert_exporter": "python",
   "pygments_lexer": "ipython3",
   "version": "3.7.4"
  }
 },
 "nbformat": 4,
 "nbformat_minor": 2
}
