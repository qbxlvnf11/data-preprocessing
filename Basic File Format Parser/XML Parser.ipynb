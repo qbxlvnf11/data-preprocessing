{
 "cells": [
  {
   "cell_type": "markdown",
   "id": "4bc58a32",
   "metadata": {},
   "source": [
    "## - Python XML Parser"
   ]
  },
  {
   "cell_type": "code",
   "execution_count": 1,
   "id": "80b06994",
   "metadata": {},
   "outputs": [],
   "source": [
    "import xml.etree.ElementTree as ET"
   ]
  },
  {
   "cell_type": "markdown",
   "id": "a5f84e8c",
   "metadata": {},
   "source": [
    "### - Sample Data 1: country_data.xml"
   ]
  },
  {
   "cell_type": "markdown",
   "id": "61f199de",
   "metadata": {},
   "source": [
    "## Refer to https://docs.python.org/ko/3/library/xml.etree.elementtree.html"
   ]
  },
  {
   "cell_type": "markdown",
   "id": "d8a9dd29",
   "metadata": {},
   "source": [
    "\n",
    "    <?xml version=\"1.0\"?>\n",
    "    <data>\n",
    "        <country name=\"Liechtenstein\">\n",
    "            <rank>1</rank>\n",
    "            <year>2008</year>\n",
    "            <gdppc>141100</gdppc>\n",
    "            <neighbor name=\"Austria\" direction=\"E\"/>\n",
    "            <neighbor name=\"Switzerland\" direction=\"W\"/>\n",
    "        </country>\n",
    "        <country name=\"Singapore\">\n",
    "            <rank>4</rank>\n",
    "            <year>2011</year>\n",
    "            <gdppc>59900</gdppc>\n",
    "            <neighbor name=\"Malaysia\" direction=\"N\"/>\n",
    "        </country>\n",
    "        <country name=\"Panama\">\n",
    "            <rank>68</rank>\n",
    "            <year>2011</year>\n",
    "            <gdppc>13600</gdppc>\n",
    "            <neighbor name=\"Costa Rica\" direction=\"W\"/>\n",
    "            <neighbor name=\"Colombia\" direction=\"E\"/>\n",
    "        </country>\n",
    "    </data>"
   ]
  },
  {
   "cell_type": "markdown",
   "id": "f3c820a1",
   "metadata": {},
   "source": [
    "#### - Get root"
   ]
  },
  {
   "cell_type": "code",
   "execution_count": 2,
   "id": "57185f40",
   "metadata": {},
   "outputs": [
    {
     "name": "stdout",
     "output_type": "stream",
     "text": [
      "data {}\n"
     ]
    }
   ],
   "source": [
    "tree = ET.parse('country_data.xml')\n",
    "root = tree.getroot()\n",
    "print(root.tag, root.attrib)"
   ]
  },
  {
   "cell_type": "markdown",
   "id": "96c3bffc",
   "metadata": {},
   "source": [
    "#### - Search all"
   ]
  },
  {
   "cell_type": "code",
   "execution_count": 3,
   "id": "8c8147ed",
   "metadata": {},
   "outputs": [
    {
     "name": "stdout",
     "output_type": "stream",
     "text": [
      "country {'name': 'Liechtenstein'}\n",
      "----------\n",
      "<Element 'rank' at 0x7fa9d43eaf90>\n",
      "{}\n",
      "1\n",
      "<Element 'year' at 0x7fa9d43ef040>\n",
      "{}\n",
      "2008\n",
      "<Element 'gdppc' at 0x7fa9d43ef090>\n",
      "{}\n",
      "141100\n",
      "<Element 'neighbor' at 0x7fa9d43ef0e0>\n",
      "{'name': 'Austria', 'direction': 'E'}\n",
      "None\n",
      "<Element 'neighbor' at 0x7fa9d43ef130>\n",
      "{'name': 'Switzerland', 'direction': 'W'}\n",
      "None\n",
      "country {'name': 'Singapore'}\n",
      "----------\n",
      "<Element 'rank' at 0x7fa9d43ef1d0>\n",
      "{}\n",
      "4\n",
      "<Element 'year' at 0x7fa9d43ef220>\n",
      "{}\n",
      "2011\n",
      "<Element 'gdppc' at 0x7fa9d43ef270>\n",
      "{}\n",
      "59900\n",
      "<Element 'neighbor' at 0x7fa9d43ef2c0>\n",
      "{'name': 'Malaysia', 'direction': 'N'}\n",
      "None\n",
      "country {'name': 'Panama'}\n",
      "----------\n",
      "<Element 'rank' at 0x7fa9d43ef360>\n",
      "{}\n",
      "68\n",
      "<Element 'year' at 0x7fa9d43ef3b0>\n",
      "{}\n",
      "2011\n",
      "<Element 'gdppc' at 0x7fa9d43ef400>\n",
      "{}\n",
      "13600\n",
      "<Element 'neighbor' at 0x7fa9d43ef450>\n",
      "{'name': 'Costa Rica', 'direction': 'W'}\n",
      "None\n",
      "<Element 'neighbor' at 0x7fa9d43ef4a0>\n",
      "{'name': 'Colombia', 'direction': 'E'}\n",
      "None\n"
     ]
    }
   ],
   "source": [
    "for child in root:\n",
    "    print(child.tag, child.attrib)\n",
    "    print('-'*10)\n",
    "    for child2 in child:\n",
    "        print(child2)\n",
    "        print(child2.attrib)\n",
    "        print(child2.text)"
   ]
  },
  {
   "cell_type": "markdown",
   "id": "9f341d01",
   "metadata": {},
   "source": [
    "#### - Find target elements"
   ]
  },
  {
   "cell_type": "code",
   "execution_count": 4,
   "id": "a674c81e",
   "metadata": {},
   "outputs": [
    {
     "name": "stdout",
     "output_type": "stream",
     "text": [
      "Liechtenstein 1\n",
      "Singapore 4\n",
      "Panama 68\n"
     ]
    }
   ],
   "source": [
    "for country in root.findall('country'):\n",
    "    rank = country.find('rank').text\n",
    "    name = country.get('name')\n",
    "    print(name, rank)"
   ]
  },
  {
   "cell_type": "markdown",
   "id": "b71afc11",
   "metadata": {},
   "source": [
    "### - hard_hat_workers0.xml"
   ]
  },
  {
   "cell_type": "markdown",
   "id": "ffe42fcb",
   "metadata": {},
   "source": [
    "### Refer to https://www.kaggle.com/datasets/andrewmvd/hard-hat-detection"
   ]
  },
  {
   "cell_type": "markdown",
   "id": "3e96102b",
   "metadata": {},
   "source": [
    "    <annotation>\n",
    "        <folder>images</folder>\n",
    "        <filename>hard_hat_workers0.png</filename>\n",
    "        <size>\n",
    "            <width>416</width>\n",
    "            <height>416</height>\n",
    "            <depth>3</depth>\n",
    "        </size>\n",
    "        <segmented>0</segmented>\n",
    "        <object>\n",
    "            <name>helmet</name>\n",
    "            <pose>Unspecified</pose>\n",
    "            <truncated>0</truncated>\n",
    "            <occluded>0</occluded>\n",
    "            <difficult>0</difficult>\n",
    "            <bndbox>\n",
    "                <xmin>357</xmin>\n",
    "                <ymin>116</ymin>\n",
    "                <xmax>404</xmax>\n",
    "                <ymax>175</ymax>\n",
    "            </bndbox>\n",
    "        </object>\n",
    "        <object>\n",
    "            <name>helmet</name>\n",
    "            <pose>Unspecified</pose>\n",
    "            <truncated>0</truncated>\n",
    "            <occluded>0</occluded>\n",
    "            <difficult>0</difficult>\n",
    "            <bndbox>\n",
    "                <xmin>4</xmin>\n",
    "                <ymin>146</ymin>\n",
    "                <xmax>39</xmax>\n",
    "                <ymax>184</ymax>\n",
    "            </bndbox>\n",
    "        </object>\n",
    "        <object>\n",
    "            <name>helmet</name>\n",
    "            <pose>Unspecified</pose>\n",
    "            <truncated>0</truncated>\n",
    "            <occluded>0</occluded>\n",
    "            <difficult>0</difficult>\n",
    "            <bndbox>\n",
    "                <xmin>253</xmin>\n",
    "                <ymin>139</ymin>\n",
    "                <xmax>275</xmax>\n",
    "                <ymax>177</ymax>\n",
    "            </bndbox>\n",
    "        </object>\n",
    "        <object>\n",
    "            <name>helmet</name>\n",
    "            <pose>Unspecified</pose>\n",
    "            <truncated>0</truncated>\n",
    "            <occluded>0</occluded>\n",
    "            <difficult>0</difficult>\n",
    "            <bndbox>\n",
    "                <xmin>300</xmin>\n",
    "                <ymin>145</ymin>\n",
    "                <xmax>323</xmax>\n",
    "                <ymax>181</ymax>\n",
    "            </bndbox>\n",
    "        </object>\n",
    "        <object>\n",
    "            <name>helmet</name>\n",
    "            <pose>Unspecified</pose>\n",
    "            <truncated>0</truncated>\n",
    "            <occluded>0</occluded>\n",
    "            <difficult>0</difficult>\n",
    "            <bndbox>\n",
    "                <xmin>116</xmin>\n",
    "                <ymin>151</ymin>\n",
    "                <xmax>138</xmax>\n",
    "                <ymax>180</ymax>\n",
    "            </bndbox>\n",
    "        </object>\n",
    "        <object>\n",
    "            <name>helmet</name>\n",
    "            <pose>Unspecified</pose>\n",
    "            <truncated>0</truncated>\n",
    "            <occluded>0</occluded>\n",
    "            <difficult>0</difficult>\n",
    "            <bndbox>\n",
    "                <xmin>80</xmin>\n",
    "                <ymin>151</ymin>\n",
    "                <xmax>100</xmax>\n",
    "                <ymax>180</ymax>\n",
    "            </bndbox>\n",
    "        </object>\n",
    "        <object>\n",
    "            <name>head</name>\n",
    "            <pose>Unspecified</pose>\n",
    "            <truncated>0</truncated>\n",
    "            <occluded>0</occluded>\n",
    "            <difficult>0</difficult>\n",
    "            <bndbox>\n",
    "                <xmin>62</xmin>\n",
    "                <ymin>144</ymin>\n",
    "                <xmax>83</xmax>\n",
    "                <ymax>172</ymax>\n",
    "            </bndbox>\n",
    "        </object>\n",
    "        <object>\n",
    "            <name>head</name>\n",
    "            <pose>Unspecified</pose>\n",
    "            <truncated>0</truncated>\n",
    "            <occluded>0</occluded>\n",
    "            <difficult>0</difficult>\n",
    "            <bndbox>\n",
    "                <xmin>322</xmin>\n",
    "                <ymin>141</ymin>\n",
    "                <xmax>345</xmax>\n",
    "                <ymax>178</ymax>\n",
    "            </bndbox>\n",
    "        </object>\n",
    "        <object>\n",
    "            <name>head</name>\n",
    "            <pose>Unspecified</pose>\n",
    "            <truncated>0</truncated>\n",
    "            <occluded>0</occluded>\n",
    "            <difficult>0</difficult>\n",
    "            <bndbox>\n",
    "                <xmin>175</xmin>\n",
    "                <ymin>156</ymin>\n",
    "                <xmax>194</xmax>\n",
    "                <ymax>186</ymax>\n",
    "            </bndbox>\n",
    "        </object>\n",
    "        <object>\n",
    "            <name>head</name>\n",
    "            <pose>Unspecified</pose>\n",
    "            <truncated>0</truncated>\n",
    "            <occluded>0</occluded>\n",
    "            <difficult>0</difficult>\n",
    "            <bndbox>\n",
    "                <xmin>222</xmin>\n",
    "                <ymin>151</ymin>\n",
    "                <xmax>240</xmax>\n",
    "                <ymax>182</ymax>\n",
    "            </bndbox>\n",
    "        </object>\n",
    "        <object>\n",
    "            <name>head</name>\n",
    "            <pose>Unspecified</pose>\n",
    "            <truncated>0</truncated>\n",
    "            <occluded>0</occluded>\n",
    "            <difficult>0</difficult>\n",
    "            <bndbox>\n",
    "                <xmin>200</xmin>\n",
    "                <ymin>146</ymin>\n",
    "                <xmax>216</xmax>\n",
    "                <ymax>173</ymax>\n",
    "            </bndbox>\n",
    "        </object>\n",
    "        <object>\n",
    "            <name>helmet</name>\n",
    "            <pose>Unspecified</pose>\n",
    "            <truncated>0</truncated>\n",
    "            <occluded>0</occluded>\n",
    "            <difficult>0</difficult>\n",
    "            <bndbox>\n",
    "                <xmin>98</xmin>\n",
    "                <ymin>140</ymin>\n",
    "                <xmax>112</xmax>\n",
    "                <ymax>160</ymax>\n",
    "            </bndbox>\n",
    "        </object>\n",
    "        <object>\n",
    "            <name>head</name>\n",
    "            <pose>Unspecified</pose>\n",
    "            <truncated>0</truncated>\n",
    "            <occluded>0</occluded>\n",
    "            <difficult>0</difficult>\n",
    "            <bndbox>\n",
    "                <xmin>157</xmin>\n",
    "                <ymin>150</ymin>\n",
    "                <xmax>175</xmax>\n",
    "                <ymax>177</ymax>\n",
    "            </bndbox>\n",
    "        </object>\n",
    "    </annotation>"
   ]
  },
  {
   "cell_type": "markdown",
   "id": "4347de07",
   "metadata": {},
   "source": [
    "#### - Get root"
   ]
  },
  {
   "cell_type": "code",
   "execution_count": 5,
   "id": "5555fa4c",
   "metadata": {},
   "outputs": [
    {
     "name": "stdout",
     "output_type": "stream",
     "text": [
      "annotation {}\n"
     ]
    }
   ],
   "source": [
    "tree = ET.parse('hard_hat_workers0.xml')\n",
    "root = tree.getroot()\n",
    "print(root.tag, root.attrib)"
   ]
  },
  {
   "cell_type": "markdown",
   "id": "6103ed6c",
   "metadata": {},
   "source": [
    "#### - Get data"
   ]
  },
  {
   "cell_type": "code",
   "execution_count": 6,
   "id": "98a6a1e5",
   "metadata": {},
   "outputs": [],
   "source": [
    "folder_list = []\n",
    "filename_list = []\n",
    "size_list = []\n",
    "bounding_box_list = []"
   ]
  },
  {
   "cell_type": "code",
   "execution_count": 7,
   "id": "5b386816",
   "metadata": {},
   "outputs": [],
   "source": [
    "for child in root:\n",
    "    if child.tag == 'folder':\n",
    "        folder_list.append(child.text)\n",
    "    elif child.tag == 'filename':\n",
    "        filename_list.append(child.text)\n",
    "    elif child.tag == 'size':\n",
    "        width = child[0].text\n",
    "        height = child[1].text\n",
    "        depth = child[2].text\n",
    "        size_list.append([width, height, depth])\n",
    "    elif child.tag == 'object':\n",
    "        name = child[0].text\n",
    "        bndbox = child[5]\n",
    "        x1 = bndbox[0].text\n",
    "        y1 = bndbox[1].text\n",
    "        x2 = bndbox[2].text\n",
    "        y2 = bndbox[3].text\n",
    "        bounding_box_list.append([name, x1, y1, x2, y2])"
   ]
  },
  {
   "cell_type": "code",
   "execution_count": 8,
   "id": "fe4d84ad",
   "metadata": {},
   "outputs": [
    {
     "name": "stdout",
     "output_type": "stream",
     "text": [
      "['images'] ['hard_hat_workers0.png'] [['416', '416', '3']] [['helmet', '357', '116', '404', '175'], ['helmet', '4', '146', '39', '184'], ['helmet', '253', '139', '275', '177'], ['helmet', '300', '145', '323', '181'], ['helmet', '116', '151', '138', '180'], ['helmet', '80', '151', '100', '180'], ['head', '62', '144', '83', '172'], ['head', '322', '141', '345', '178'], ['head', '175', '156', '194', '186'], ['head', '222', '151', '240', '182'], ['head', '200', '146', '216', '173'], ['helmet', '98', '140', '112', '160'], ['head', '157', '150', '175', '177']]\n"
     ]
    }
   ],
   "source": [
    "print(folder_list, filename_list, size_list, bounding_box_list)"
   ]
  },
  {
   "cell_type": "code",
   "execution_count": null,
   "id": "01ee6ba0",
   "metadata": {},
   "outputs": [],
   "source": []
  }
 ],
 "metadata": {
  "kernelspec": {
   "display_name": "Python 3 (ipykernel)",
   "language": "python",
   "name": "python3"
  },
  "language_info": {
   "codemirror_mode": {
    "name": "ipython",
    "version": 3
   },
   "file_extension": ".py",
   "mimetype": "text/x-python",
   "name": "python",
   "nbconvert_exporter": "python",
   "pygments_lexer": "ipython3",
   "version": "3.9.12"
  }
 },
 "nbformat": 4,
 "nbformat_minor": 5
}
