{
 "cells": [
  {
   "cell_type": "markdown",
   "metadata": {},
   "source": [
    "# Install Torchtext"
   ]
  },
  {
   "cell_type": "code",
   "execution_count": 1,
   "metadata": {},
   "outputs": [],
   "source": [
    "# !pip install torchtext"
   ]
  },
  {
   "cell_type": "markdown",
   "metadata": {},
   "source": [
    "# Environment"
   ]
  },
  {
   "cell_type": "code",
   "execution_count": 2,
   "metadata": {},
   "outputs": [],
   "source": [
    "import sys\n",
    "import pandas as pd\n",
    "import spacy\n",
    "\n",
    "from sklearn.model_selection import StratifiedShuffleSplit, train_test_split\n",
    "\n",
    "import torch\n",
    "import torch.nn as nn\n",
    "import torch.optim as optim\n",
    "from torch.autograd import Variable\n",
    "import torch.nn.functional as F\n",
    "from torch.nn.utils.rnn import pack_padded_sequence, pad_packed_sequence\n",
    "\n",
    "import torchtext\n",
    "from torchtext import data\n",
    "from torchtext import vocab"
   ]
  },
  {
   "cell_type": "code",
   "execution_count": 3,
   "metadata": {},
   "outputs": [
    {
     "name": "stdout",
     "output_type": "stream",
     "text": [
      "Python version: 3.7.4 (default, Aug 13 2019, 20:35:49) \n",
      "[GCC 7.3.0]\n",
      "Pandas version: 0.25.1\n",
      "Pytorch version: 1.3.1\n",
      "Torch Text version: 0.4.0\n",
      "Spacy version: 2.2.3\n"
     ]
    }
   ],
   "source": [
    "print('Python version:',sys.version)\n",
    "print('Pandas version:',pd.__version__)\n",
    "print('Pytorch version:', torch.__version__)\n",
    "print('Torch Text version:', torchtext.__version__)\n",
    "print('Spacy version:', spacy.__version__)"
   ]
  },
  {
   "cell_type": "markdown",
   "metadata": {},
   "source": [
    "# Tokenizer"
   ]
  },
  {
   "cell_type": "code",
   "execution_count": 4,
   "metadata": {},
   "outputs": [
    {
     "name": "stderr",
     "output_type": "stream",
     "text": [
      "Using TensorFlow backend.\n"
     ]
    }
   ],
   "source": [
    "import re\n",
    "from keras.preprocessing.text import Tokenizer\n",
    "from keras.preprocessing.sequence import pad_sequences"
   ]
  },
  {
   "cell_type": "code",
   "execution_count": 5,
   "metadata": {},
   "outputs": [],
   "source": [
    "NLP = spacy.load('en', disable=['parser', 'tagger', 'ner'])\n",
    "# max_len = 130"
   ]
  },
  {
   "cell_type": "code",
   "execution_count": 6,
   "metadata": {},
   "outputs": [],
   "source": [
    "remove_marks_regex = re.compile(\"[,\\.\\(\\)\\[\\]\\*:;]|<.*?>\")\n",
    "remove_links_regex = re.compile(\"https?:/\\/\\S+\")\n",
    "# shift_marks_regex = re.compile(\"([?!])\")"
   ]
  },
  {
   "cell_type": "code",
   "execution_count": 7,
   "metadata": {},
   "outputs": [],
   "source": [
    "def tokenizer(text):\n",
    "    \n",
    "    text = text.strip()\n",
    "#     print(text)\n",
    "    \n",
    "    # removing symbol except for !?\n",
    "    text = remove_marks_regex.sub(\"\", text)\n",
    "    # removing link\n",
    "    text = remove_links_regex.sub(\"\", text)\n",
    "    # inserting blank space between !? and words\n",
    "#     text = shift_marks_regex.sub(r\" \\1 \", text)\n",
    "    \n",
    "#     print(text)\n",
    "    \n",
    "    doc = NLP(text)\n",
    "    sequences = [token.text.lower() for token in doc]\n",
    "    \n",
    "#     if len(sequences) > max_len:\n",
    "#         sequences = sequences[:max_len]\n",
    "    \n",
    "#     print(sequences)\n",
    "    \n",
    "    return sequences"
   ]
  },
  {
   "cell_type": "code",
   "execution_count": 8,
   "metadata": {
    "scrolled": true
   },
   "outputs": [
    {
     "data": {
      "text/plain": [
       "['feeeling',\n",
       " 'like',\n",
       " 'shit',\n",
       " 'right',\n",
       " 'now',\n",
       " 'i',\n",
       " 'really',\n",
       " 'want',\n",
       " 'to',\n",
       " 'sleep',\n",
       " 'but',\n",
       " 'nooo',\n",
       " 'i',\n",
       " 'have',\n",
       " '3',\n",
       " 'hours',\n",
       " 'of',\n",
       " 'dancing',\n",
       " 'and',\n",
       " 'an',\n",
       " 'art',\n",
       " 'assignment',\n",
       " 'to',\n",
       " 'finish']"
      ]
     },
     "execution_count": 8,
     "metadata": {},
     "output_type": "execute_result"
    }
   ],
   "source": [
    "tokenizer(\"   Feeeling like shit right now. I really want to sleep, but nooo I have 3 hours of dancing and an art assignment to finish. \")"
   ]
  },
  {
   "cell_type": "markdown",
   "metadata": {},
   "source": [
    "# Load Data"
   ]
  },
  {
   "cell_type": "code",
   "execution_count": 9,
   "metadata": {},
   "outputs": [],
   "source": [
    "BASIC_PATH = './'"
   ]
  },
  {
   "cell_type": "code",
   "execution_count": 10,
   "metadata": {},
   "outputs": [],
   "source": [
    "import matplotlib.pyplot as plt\n",
    "import seaborn as sns"
   ]
  },
  {
   "cell_type": "code",
   "execution_count": 11,
   "metadata": {},
   "outputs": [],
   "source": [
    "df = pd.read_csv(BASIC_PATH + 'Sentiment_Analysis_Dataset.csv', delimiter = ',', skiprows = 1,\n",
    "                   names = ['ItemID', 'Sentiment', 'SentimentSource', 'SentimentText'],\n",
    "                   usecols=['Sentiment', 'SentimentText'])"
   ]
  },
  {
   "cell_type": "code",
   "execution_count": 12,
   "metadata": {},
   "outputs": [
    {
     "data": {
      "text/html": [
       "<div>\n",
       "<style scoped>\n",
       "    .dataframe tbody tr th:only-of-type {\n",
       "        vertical-align: middle;\n",
       "    }\n",
       "\n",
       "    .dataframe tbody tr th {\n",
       "        vertical-align: top;\n",
       "    }\n",
       "\n",
       "    .dataframe thead th {\n",
       "        text-align: right;\n",
       "    }\n",
       "</style>\n",
       "<table border=\"1\" class=\"dataframe\">\n",
       "  <thead>\n",
       "    <tr style=\"text-align: right;\">\n",
       "      <th></th>\n",
       "      <th>Sentiment</th>\n",
       "      <th>SentimentText</th>\n",
       "    </tr>\n",
       "  </thead>\n",
       "  <tbody>\n",
       "    <tr>\n",
       "      <td>0</td>\n",
       "      <td>0</td>\n",
       "      <td>is so sad for my APL frie...</td>\n",
       "    </tr>\n",
       "    <tr>\n",
       "      <td>1</td>\n",
       "      <td>0</td>\n",
       "      <td>I missed the New Moon trail...</td>\n",
       "    </tr>\n",
       "    <tr>\n",
       "      <td>2</td>\n",
       "      <td>1</td>\n",
       "      <td>omg its already 7:30 :O</td>\n",
       "    </tr>\n",
       "    <tr>\n",
       "      <td>3</td>\n",
       "      <td>0</td>\n",
       "      <td>.. Omgaga. Im sooo  im gunna CRy. I'...</td>\n",
       "    </tr>\n",
       "    <tr>\n",
       "      <td>4</td>\n",
       "      <td>0</td>\n",
       "      <td>i think mi bf is cheating on me!!!   ...</td>\n",
       "    </tr>\n",
       "    <tr>\n",
       "      <td>...</td>\n",
       "      <td>...</td>\n",
       "      <td>...</td>\n",
       "    </tr>\n",
       "    <tr>\n",
       "      <td>1578609</td>\n",
       "      <td>1</td>\n",
       "      <td>Zzzzzz.... Finally! Night tweeters!</td>\n",
       "    </tr>\n",
       "    <tr>\n",
       "      <td>1578610</td>\n",
       "      <td>1</td>\n",
       "      <td>Zzzzzzz, sleep well people</td>\n",
       "    </tr>\n",
       "    <tr>\n",
       "      <td>1578611</td>\n",
       "      <td>0</td>\n",
       "      <td>ZzzZzZzzzZ... wait no I have homework.</td>\n",
       "    </tr>\n",
       "    <tr>\n",
       "      <td>1578612</td>\n",
       "      <td>0</td>\n",
       "      <td>ZzZzzzZZZZzzz meh, what am I doing up again?</td>\n",
       "    </tr>\n",
       "    <tr>\n",
       "      <td>1578613</td>\n",
       "      <td>0</td>\n",
       "      <td>Zzzzzzzzzzzzzzzzzzz, I wish</td>\n",
       "    </tr>\n",
       "  </tbody>\n",
       "</table>\n",
       "<p>1578614 rows × 2 columns</p>\n",
       "</div>"
      ],
      "text/plain": [
       "         Sentiment                                      SentimentText\n",
       "0                0                       is so sad for my APL frie...\n",
       "1                0                     I missed the New Moon trail...\n",
       "2                1                            omg its already 7:30 :O\n",
       "3                0            .. Omgaga. Im sooo  im gunna CRy. I'...\n",
       "4                0           i think mi bf is cheating on me!!!   ...\n",
       "...            ...                                                ...\n",
       "1578609          1               Zzzzzz.... Finally! Night tweeters! \n",
       "1578610          1                        Zzzzzzz, sleep well people \n",
       "1578611          0            ZzzZzZzzzZ... wait no I have homework. \n",
       "1578612          0      ZzZzzzZZZZzzz meh, what am I doing up again? \n",
       "1578613          0                       Zzzzzzzzzzzzzzzzzzz, I wish \n",
       "\n",
       "[1578614 rows x 2 columns]"
      ]
     },
     "execution_count": 12,
     "metadata": {},
     "output_type": "execute_result"
    }
   ],
   "source": [
    "df"
   ]
  },
  {
   "cell_type": "code",
   "execution_count": 13,
   "metadata": {},
   "outputs": [
    {
     "data": {
      "image/png": "[encoded data removed]",
      "text/plain": [
       "<Figure size 576x360 with 1 Axes>"
      ]
     },
     "metadata": {
      "needs_background": "light"
     },
     "output_type": "display_data"
    }
   ],
   "source": [
    "fig = plt.figure(figsize=(8,5))\n",
    "ax = sns.barplot(x=df.Sentiment.unique(),y=df.Sentiment.value_counts());\n",
    "ax.set(xlabel='Labels');"
   ]
  },
  {
   "cell_type": "markdown",
   "metadata": {},
   "source": [
    "# Split Train & Validation"
   ]
  },
  {
   "cell_type": "code",
   "execution_count": 14,
   "metadata": {},
   "outputs": [],
   "source": [
    "test_size = 0.2"
   ]
  },
  {
   "cell_type": "code",
   "execution_count": 15,
   "metadata": {},
   "outputs": [],
   "source": [
    "traindf, valdf = train_test_split(df, test_size=test_size,random_state=42)"
   ]
  },
  {
   "cell_type": "code",
   "execution_count": 16,
   "metadata": {},
   "outputs": [
    {
     "data": {
      "text/html": [
       "<div>\n",
       "<style scoped>\n",
       "    .dataframe tbody tr th:only-of-type {\n",
       "        vertical-align: middle;\n",
       "    }\n",
       "\n",
       "    .dataframe tbody tr th {\n",
       "        vertical-align: top;\n",
       "    }\n",
       "\n",
       "    .dataframe thead th {\n",
       "        text-align: right;\n",
       "    }\n",
       "</style>\n",
       "<table border=\"1\" class=\"dataframe\">\n",
       "  <thead>\n",
       "    <tr style=\"text-align: right;\">\n",
       "      <th></th>\n",
       "      <th>Sentiment</th>\n",
       "      <th>SentimentText</th>\n",
       "    </tr>\n",
       "  </thead>\n",
       "  <tbody>\n",
       "    <tr>\n",
       "      <td>1444927</td>\n",
       "      <td>1</td>\n",
       "      <td>I like musical comedies</td>\n",
       "    </tr>\n",
       "    <tr>\n",
       "      <td>1041155</td>\n",
       "      <td>1</td>\n",
       "      <td>@MartiniMisty I'll take Italian Job Norton. Oh...</td>\n",
       "    </tr>\n",
       "    <tr>\n",
       "      <td>1002675</td>\n",
       "      <td>1</td>\n",
       "      <td>@lizzylou62 Good luck with the exams!</td>\n",
       "    </tr>\n",
       "    <tr>\n",
       "      <td>1370189</td>\n",
       "      <td>1</td>\n",
       "      <td>Alyssa_Milano Just wanted to say I love your w...</td>\n",
       "    </tr>\n",
       "    <tr>\n",
       "      <td>610934</td>\n",
       "      <td>0</td>\n",
       "      <td>Chinese for lunch wasn't a very bright idea! I...</td>\n",
       "    </tr>\n",
       "    <tr>\n",
       "      <td>...</td>\n",
       "      <td>...</td>\n",
       "      <td>...</td>\n",
       "    </tr>\n",
       "    <tr>\n",
       "      <td>259178</td>\n",
       "      <td>1</td>\n",
       "      <td>@kristinbickel  you should be at youth group!!...</td>\n",
       "    </tr>\n",
       "    <tr>\n",
       "      <td>1414414</td>\n",
       "      <td>0</td>\n",
       "      <td>got burned b/c she is stupid and forgot to sun...</td>\n",
       "    </tr>\n",
       "    <tr>\n",
       "      <td>131932</td>\n",
       "      <td>1</td>\n",
       "      <td>@Domm_LoveLife  if you like 2 laugh..have a go...</td>\n",
       "    </tr>\n",
       "    <tr>\n",
       "      <td>671155</td>\n",
       "      <td>0</td>\n",
       "      <td>@bunchesxx omg i second that  i'm pretty much ...</td>\n",
       "    </tr>\n",
       "    <tr>\n",
       "      <td>121958</td>\n",
       "      <td>1</td>\n",
       "      <td>@CassieCassandra thanks! i'm from Puerto Rico....</td>\n",
       "    </tr>\n",
       "  </tbody>\n",
       "</table>\n",
       "<p>1262891 rows × 2 columns</p>\n",
       "</div>"
      ],
      "text/plain": [
       "         Sentiment                                      SentimentText\n",
       "1444927          1                           I like musical comedies \n",
       "1041155          1  @MartiniMisty I'll take Italian Job Norton. Oh...\n",
       "1002675          1             @lizzylou62 Good luck with the exams! \n",
       "1370189          1  Alyssa_Milano Just wanted to say I love your w...\n",
       "610934           0  Chinese for lunch wasn't a very bright idea! I...\n",
       "...            ...                                                ...\n",
       "259178           1  @kristinbickel  you should be at youth group!!...\n",
       "1414414          0  got burned b/c she is stupid and forgot to sun...\n",
       "131932           1  @Domm_LoveLife  if you like 2 laugh..have a go...\n",
       "671155           0  @bunchesxx omg i second that  i'm pretty much ...\n",
       "121958           1  @CassieCassandra thanks! i'm from Puerto Rico....\n",
       "\n",
       "[1262891 rows x 2 columns]"
      ]
     },
     "execution_count": 16,
     "metadata": {},
     "output_type": "execute_result"
    }
   ],
   "source": [
    "traindf"
   ]
  },
  {
   "cell_type": "code",
   "execution_count": 17,
   "metadata": {},
   "outputs": [
    {
     "data": {
      "text/plain": [
       "1    632378\n",
       "0    630513\n",
       "Name: Sentiment, dtype: int64"
      ]
     },
     "execution_count": 17,
     "metadata": {},
     "output_type": "execute_result"
    }
   ],
   "source": [
    "traindf.Sentiment.value_counts()"
   ]
  },
  {
   "cell_type": "code",
   "execution_count": 18,
   "metadata": {},
   "outputs": [
    {
     "data": {
      "text/html": [
       "<div>\n",
       "<style scoped>\n",
       "    .dataframe tbody tr th:only-of-type {\n",
       "        vertical-align: middle;\n",
       "    }\n",
       "\n",
       "    .dataframe tbody tr th {\n",
       "        vertical-align: top;\n",
       "    }\n",
       "\n",
       "    .dataframe thead th {\n",
       "        text-align: right;\n",
       "    }\n",
       "</style>\n",
       "<table border=\"1\" class=\"dataframe\">\n",
       "  <thead>\n",
       "    <tr style=\"text-align: right;\">\n",
       "      <th></th>\n",
       "      <th>Sentiment</th>\n",
       "      <th>SentimentText</th>\n",
       "    </tr>\n",
       "  </thead>\n",
       "  <tbody>\n",
       "    <tr>\n",
       "      <td>1432703</td>\n",
       "      <td>1</td>\n",
       "      <td>http://www.popsugar.com/2999655 keep voting fo...</td>\n",
       "    </tr>\n",
       "    <tr>\n",
       "      <td>166675</td>\n",
       "      <td>1</td>\n",
       "      <td>@GamrothTaylor I am starting to worry about yo...</td>\n",
       "    </tr>\n",
       "    <tr>\n",
       "      <td>1224710</td>\n",
       "      <td>0</td>\n",
       "      <td>sunburned...no sunbaked!    ow.  it hurts to sit.</td>\n",
       "    </tr>\n",
       "    <tr>\n",
       "      <td>606184</td>\n",
       "      <td>1</td>\n",
       "      <td>Celebrating my 50th birthday by doing exactly ...</td>\n",
       "    </tr>\n",
       "    <tr>\n",
       "      <td>1487194</td>\n",
       "      <td>1</td>\n",
       "      <td>Leah and Aiden Gosselin are the cutest kids on...</td>\n",
       "    </tr>\n",
       "    <tr>\n",
       "      <td>...</td>\n",
       "      <td>...</td>\n",
       "      <td>...</td>\n",
       "    </tr>\n",
       "    <tr>\n",
       "      <td>1254101</td>\n",
       "      <td>1</td>\n",
       "      <td>@SteffNasty LOLOL @ Spaceships maybe the futur...</td>\n",
       "    </tr>\n",
       "    <tr>\n",
       "      <td>978908</td>\n",
       "      <td>0</td>\n",
       "      <td>Jus in work wi jenivivo  miss my baby tho  xxx...</td>\n",
       "    </tr>\n",
       "    <tr>\n",
       "      <td>301363</td>\n",
       "      <td>1</td>\n",
       "      <td>@Mds0221 nothing much  you?</td>\n",
       "    </tr>\n",
       "    <tr>\n",
       "      <td>1140075</td>\n",
       "      <td>0</td>\n",
       "      <td>OMG Freakin dropped my Freakin iPOD! I'm sad c...</td>\n",
       "    </tr>\n",
       "    <tr>\n",
       "      <td>4225</td>\n",
       "      <td>0</td>\n",
       "      <td>my sister just graduated...</td>\n",
       "    </tr>\n",
       "  </tbody>\n",
       "</table>\n",
       "<p>315723 rows × 2 columns</p>\n",
       "</div>"
      ],
      "text/plain": [
       "         Sentiment                                      SentimentText\n",
       "1432703          1  http://www.popsugar.com/2999655 keep voting fo...\n",
       "166675           1  @GamrothTaylor I am starting to worry about yo...\n",
       "1224710          0  sunburned...no sunbaked!    ow.  it hurts to sit.\n",
       "606184           1  Celebrating my 50th birthday by doing exactly ...\n",
       "1487194          1  Leah and Aiden Gosselin are the cutest kids on...\n",
       "...            ...                                                ...\n",
       "1254101          1  @SteffNasty LOLOL @ Spaceships maybe the futur...\n",
       "978908           0  Jus in work wi jenivivo  miss my baby tho  xxx...\n",
       "301363           1                        @Mds0221 nothing much  you?\n",
       "1140075          0  OMG Freakin dropped my Freakin iPOD! I'm sad c...\n",
       "4225             0                        my sister just graduated...\n",
       "\n",
       "[315723 rows x 2 columns]"
      ]
     },
     "execution_count": 18,
     "metadata": {},
     "output_type": "execute_result"
    }
   ],
   "source": [
    "valdf"
   ]
  },
  {
   "cell_type": "code",
   "execution_count": 19,
   "metadata": {},
   "outputs": [
    {
     "data": {
      "text/plain": [
       "0    157923\n",
       "1    157800\n",
       "Name: Sentiment, dtype: int64"
      ]
     },
     "execution_count": 19,
     "metadata": {},
     "output_type": "execute_result"
    }
   ],
   "source": [
    "valdf.Sentiment.value_counts()"
   ]
  },
  {
   "cell_type": "code",
   "execution_count": 20,
   "metadata": {},
   "outputs": [],
   "source": [
    "traindf.to_csv(BASIC_PATH + 'traindf.csv', index=False)\n",
    "valdf.to_csv(BASIC_PATH + 'valdf.csv', index=False)"
   ]
  },
  {
   "cell_type": "markdown",
   "metadata": {},
   "source": [
    "# Torchtext Field"
   ]
  },
  {
   "cell_type": "markdown",
   "metadata": {},
   "source": [
    "- http://torchtext.readthedocs.io/en/latest/data.html#fields"
   ]
  },
  {
   "cell_type": "code",
   "execution_count": 21,
   "metadata": {},
   "outputs": [],
   "source": [
    "max_len = 512"
   ]
  },
  {
   "cell_type": "code",
   "execution_count": 22,
   "metadata": {},
   "outputs": [],
   "source": [
    "txt_field = data.Field(sequential=True,  # for sequence data like sentence, set this argument True\n",
    "             use_vocab=True,\n",
    "             fix_length = max_len,\n",
    "             tokenize=tokenizer, #tokenize=str.split,  # you can define your own tokenizer\n",
    "             include_lengths=True,\n",
    "             lower=True, \n",
    "             batch_first=True)  \n",
    "label_field = data.Field(sequential=False,  # for non-sequence data like label, set this argument False\n",
    "              use_vocab=False,   # since label is a number, we don't have to use vocabulary\n",
    "              fix_length = max_len,\n",
    "#               preprocessing = lambda x: int(x),  # this preprocessing is used after Tokenize and before Numericalize\n",
    "              batch_first=True)"
   ]
  },
  {
   "cell_type": "code",
   "execution_count": 23,
   "metadata": {},
   "outputs": [],
   "source": [
    "# [(필드이름, 필드객체), ...]\n",
    "\n",
    "train_val_fields = [\n",
    "#     ('ItemID', None),\n",
    "    ('Sentiment', label_field),\n",
    "#     ('SentimentSource', None),\n",
    "    ('SentimentText', txt_field)\n",
    "]"
   ]
  },
  {
   "cell_type": "markdown",
   "metadata": {},
   "source": [
    "# TabularDataset"
   ]
  },
  {
   "cell_type": "code",
   "execution_count": 24,
   "metadata": {},
   "outputs": [],
   "source": [
    "from torchtext.data import TabularDataset, Iterator"
   ]
  },
  {
   "cell_type": "code",
   "execution_count": 25,
   "metadata": {},
   "outputs": [
    {
     "name": "stdout",
     "output_type": "stream",
     "text": [
      "CPU times: user 4min 17s, sys: 1.7 s, total: 4min 19s\n",
      "Wall time: 4min 19s\n"
     ]
    }
   ],
   "source": [
    "%%time\n",
    "trainDataset, validDataset = TabularDataset.splits(path=BASIC_PATH,\n",
    "                                   format='csv',\n",
    "                                   train='traindf.csv',\n",
    "                                   validation='valdf.csv',\n",
    "                                   fields=train_val_fields,\n",
    "                                   skip_header=True)"
   ]
  },
  {
   "cell_type": "code",
   "execution_count": 26,
   "metadata": {},
   "outputs": [
    {
     "data": {
      "text/plain": [
       "1262891"
      ]
     },
     "execution_count": 26,
     "metadata": {},
     "output_type": "execute_result"
    }
   ],
   "source": [
    "len(trainDataset)"
   ]
  },
  {
   "cell_type": "code",
   "execution_count": 27,
   "metadata": {},
   "outputs": [
    {
     "data": {
      "text/plain": [
       "315723"
      ]
     },
     "execution_count": 27,
     "metadata": {},
     "output_type": "execute_result"
    }
   ],
   "source": [
    "len(validDataset)"
   ]
  },
  {
   "cell_type": "code",
   "execution_count": 28,
   "metadata": {},
   "outputs": [
    {
     "data": {
      "text/plain": [
       "dict_items([('Sentiment', <torchtext.data.field.Field object at 0x7fbddaf1a6d0>), ('SentimentText', <torchtext.data.field.Field object at 0x7fbddaf1a690>)])"
      ]
     },
     "execution_count": 28,
     "metadata": {},
     "output_type": "execute_result"
    }
   ],
   "source": [
    "trainDataset.fields.items()"
   ]
  },
  {
   "cell_type": "code",
   "execution_count": 29,
   "metadata": {},
   "outputs": [
    {
     "data": {
      "text/plain": [
       "['i', 'like', 'musical', 'comedies']"
      ]
     },
     "execution_count": 29,
     "metadata": {},
     "output_type": "execute_result"
    }
   ],
   "source": [
    "trainDataset[0].SentimentText"
   ]
  },
  {
   "cell_type": "code",
   "execution_count": 30,
   "metadata": {},
   "outputs": [
    {
     "data": {
      "text/plain": [
       "'1'"
      ]
     },
     "execution_count": 30,
     "metadata": {},
     "output_type": "execute_result"
    }
   ],
   "source": [
    "trainDataset[0].Sentiment"
   ]
  },
  {
   "cell_type": "code",
   "execution_count": 31,
   "metadata": {},
   "outputs": [
    {
     "data": {
      "text/plain": [
       "dict_items([('Sentiment', <torchtext.data.field.Field object at 0x7fbddaf1a6d0>), ('SentimentText', <torchtext.data.field.Field object at 0x7fbddaf1a690>)])"
      ]
     },
     "execution_count": 31,
     "metadata": {},
     "output_type": "execute_result"
    }
   ],
   "source": [
    "validDataset.fields.items()"
   ]
  },
  {
   "cell_type": "code",
   "execution_count": 32,
   "metadata": {},
   "outputs": [
    {
     "data": {
      "text/plain": [
       "['http//wwwpopsugarcom/2999655',\n",
       " 'keep',\n",
       " 'voting',\n",
       " 'for',\n",
       " 'robert',\n",
       " 'pattinson',\n",
       " 'in',\n",
       " 'the',\n",
       " 'popsugar100',\n",
       " 'as',\n",
       " 'well',\n",
       " '!',\n",
       " '!']"
      ]
     },
     "execution_count": 32,
     "metadata": {},
     "output_type": "execute_result"
    }
   ],
   "source": [
    "validDataset[0].SentimentText"
   ]
  },
  {
   "cell_type": "code",
   "execution_count": 33,
   "metadata": {},
   "outputs": [
    {
     "data": {
      "text/plain": [
       "'1'"
      ]
     },
     "execution_count": 33,
     "metadata": {},
     "output_type": "execute_result"
    }
   ],
   "source": [
    "validDataset[0].Sentiment"
   ]
  },
  {
   "cell_type": "markdown",
   "metadata": {},
   "source": [
    "# Vocab"
   ]
  },
  {
   "cell_type": "markdown",
   "metadata": {},
   "source": [
    "- Load pretrained word vectors"
   ]
  },
  {
   "cell_type": "code",
   "execution_count": 34,
   "metadata": {},
   "outputs": [],
   "source": [
    "max_size=100000"
   ]
  },
  {
   "cell_type": "code",
   "execution_count": 35,
   "metadata": {},
   "outputs": [
    {
     "name": "stdout",
     "output_type": "stream",
     "text": [
      "CPU times: user 10.1 s, sys: 63.9 ms, total: 10.1 s\n",
      "Wall time: 10.1 s\n"
     ]
    }
   ],
   "source": [
    "%%time\n",
    "txt_field.build_vocab(trainDataset, validDataset, max_size=max_size)\n",
    "label_field.build_vocab(trainDataset)"
   ]
  },
  {
   "cell_type": "code",
   "execution_count": 36,
   "metadata": {},
   "outputs": [
    {
     "data": {
      "text/plain": [
       "100002"
      ]
     },
     "execution_count": 36,
     "metadata": {},
     "output_type": "execute_result"
    }
   ],
   "source": [
    "len(txt_field.vocab)"
   ]
  },
  {
   "cell_type": "code",
   "execution_count": 37,
   "metadata": {},
   "outputs": [
    {
     "data": {
      "text/plain": [
       "0"
      ]
     },
     "execution_count": 37,
     "metadata": {},
     "output_type": "execute_result"
    }
   ],
   "source": [
    "txt_field.vocab.stoi['<unk>']"
   ]
  },
  {
   "cell_type": "code",
   "execution_count": 38,
   "metadata": {},
   "outputs": [
    {
     "data": {
      "text/plain": [
       "1"
      ]
     },
     "execution_count": 38,
     "metadata": {},
     "output_type": "execute_result"
    }
   ],
   "source": [
    "txt_field.vocab.stoi['<pad>']"
   ]
  },
  {
   "cell_type": "code",
   "execution_count": 39,
   "metadata": {},
   "outputs": [
    {
     "data": {
      "text/plain": [
       "848"
      ]
     },
     "execution_count": 39,
     "metadata": {},
     "output_type": "execute_result"
    }
   ],
   "source": [
    "txt_field.vocab.stoi['answer']"
   ]
  },
  {
   "cell_type": "markdown",
   "metadata": {},
   "source": [
    "# Batch"
   ]
  },
  {
   "cell_type": "code",
   "execution_count": 40,
   "metadata": {},
   "outputs": [],
   "source": [
    "BATCH_SIZE = 512"
   ]
  },
  {
   "cell_type": "code",
   "execution_count": 41,
   "metadata": {},
   "outputs": [],
   "source": [
    "train_loader = Iterator(trainDataset, \n",
    "                        batch_size=BATCH_SIZE,\n",
    "                        shuffle=True,\n",
    "                        device=\"cuda\",  # \"cuda\" or None\n",
    "                        repeat=False)"
   ]
  },
  {
   "cell_type": "code",
   "execution_count": 42,
   "metadata": {},
   "outputs": [],
   "source": [
    "valid_loader = Iterator(validDataset, \n",
    "                        batch_size=BATCH_SIZE,\n",
    "                        shuffle=False,\n",
    "                        device=\"cuda\",  # \"cuda\" or None\n",
    "                        repeat=False)"
   ]
  },
  {
   "cell_type": "code",
   "execution_count": 43,
   "metadata": {},
   "outputs": [
    {
     "name": "stdout",
     "output_type": "stream",
     "text": [
      "tensor([[ 2664,   165, 10228,  ...,     1,     1,     1],\n",
      "        [ 1790,     6,   843,  ...,     1,     1,     1],\n",
      "        [    6,     0,    16,  ...,     1,     1,     1],\n",
      "        ...,\n",
      "        [  494,     5,    21,  ...,     1,     1,     1],\n",
      "        [   27,    47,    95,  ...,     1,     1,     1],\n",
      "        [    0,    10,    31,  ...,     1,     1,     1]], device='cuda:0')\n",
      "torch.Size([512, 512])\n",
      "tensor([21,  9, 27, 12, 29, 16, 18,  8, 15, 27, 20, 10, 19, 30,  8, 19, 13, 14,\n",
      "        24, 16,  6, 28, 13, 22,  9, 25, 30,  6, 28,  9, 13,  7,  8, 15, 15, 12,\n",
      "         5, 19, 14, 18, 33, 34, 27, 12, 27, 15, 19, 18, 14, 14, 22, 25, 19, 11,\n",
      "         4, 26, 24, 10, 21, 15, 24, 21, 21, 21, 27, 22,  9, 32, 26, 16, 15, 21,\n",
      "         7, 11,  6,  4,  6, 16, 24, 12, 20, 14, 30,  4, 11, 15, 19, 12,  5, 26,\n",
      "        11, 12,  3, 30,  5, 25, 15, 10, 26,  5, 16,  7,  5,  8, 23, 15,  1, 27,\n",
      "        28, 16, 20,  7, 15, 22, 10,  4, 11,  5, 25,  7,  4, 38, 16, 15, 16, 23,\n",
      "         6,  4, 26,  4, 20,  7, 28, 15, 22,  7,  8, 12, 17, 13, 16, 32,  9,  8,\n",
      "        12,  4,  9,  8, 20, 11, 30, 18, 12, 20, 13,  6, 16, 26,  7, 14, 24,  8,\n",
      "        15,  6,  7,  9,  3, 22, 17, 14,  8, 28, 24, 25,  7, 31, 18,  7,  7, 16,\n",
      "        27, 21,  8, 14, 24, 16, 25, 28, 24, 20,  6, 30, 21, 17, 13,  9, 19, 24,\n",
      "        17, 12,  5, 16,  7, 26,  9, 10, 15, 10, 11, 12, 31,  5, 26, 31, 28, 12,\n",
      "        24, 16, 13, 22, 27,  2, 21, 22, 10,  6,  6, 17, 10,  7, 11, 21, 16, 14,\n",
      "         5, 11, 15, 27, 28, 27, 14, 15, 31, 14,  9, 10, 20, 12,  9,  7,  3, 11,\n",
      "         8,  7,  6,  8, 28, 16,  9, 12, 23, 16, 13,  8, 15, 18, 15,  8,  5,  5,\n",
      "        18, 29, 12, 34,  9, 12, 23, 10, 11,  6, 27, 19, 13, 15,  5, 13, 26, 24,\n",
      "        13,  9,  5,  6, 18, 22, 31, 14, 16, 15,  7, 13, 21, 30, 11, 17, 27, 18,\n",
      "        12, 32, 30,  4, 10,  8,  7, 18, 13, 17, 22,  4, 15, 17,  4, 26, 12, 15,\n",
      "         8, 36, 16,  8, 23,  9, 29, 23, 15, 12, 27, 25, 18, 13, 31, 17, 17, 19,\n",
      "        25, 17, 16, 13, 12,  6, 11, 23, 20,  4, 15, 24, 12, 21, 21, 13,  9, 14,\n",
      "        13, 11,  6, 25,  8, 20, 22, 33, 23,  5,  3,  3, 26,  4, 19, 16, 22, 27,\n",
      "        12, 18, 25,  4,  3, 12, 22, 23, 33,  3, 16,  5, 33, 25,  7, 24, 21, 25,\n",
      "        10, 12,  8, 25, 33, 12,  8, 14, 16, 10,  6, 22, 26,  9, 18, 18,  9, 23,\n",
      "        10, 15, 10,  8, 22,  2,  6, 10, 14,  5, 11,  8, 14, 14,  6, 10,  5,  6,\n",
      "         8, 15, 25, 22, 13, 13, 18,  9,  9, 26, 13,  9, 30, 13, 10, 28, 13, 10,\n",
      "        16, 25, 17,  4, 22,  5, 22, 15,  5,  9, 10,  7,  2, 10,  8,  6, 28,  3,\n",
      "        20, 14, 27, 12,  9, 11, 26, 10, 24, 26, 22,  8, 21, 13,  5, 14,  6, 28,\n",
      "         6, 28, 23,  4, 24,  8, 29, 20, 16,  6, 10,  7, 31, 12, 13, 26, 24, 27,\n",
      "        18,  9, 25,  9, 22, 14, 20, 21], device='cuda:0')\n",
      "tensor([1, 0, 1, 0, 0, 0, 0, 1, 1, 1, 0, 1, 0, 1, 1, 0, 1, 0, 1, 1, 1, 0, 1, 0,\n",
      "        1, 0, 0, 0, 0, 0, 0, 1, 1, 0, 1, 1, 0, 1, 0, 1, 0, 1, 0, 1, 0, 0, 0, 1,\n",
      "        0, 0, 1, 0, 0, 0, 0, 1, 0, 1, 0, 1, 1, 1, 1, 0, 0, 1, 0, 0, 0, 1, 0, 0,\n",
      "        1, 1, 0, 0, 1, 0, 0, 0, 1, 0, 1, 1, 1, 0, 1, 1, 0, 0, 0, 1, 1, 1, 1, 0,\n",
      "        0, 0, 1, 0, 1, 1, 1, 0, 1, 1, 1, 0, 0, 0, 1, 0, 0, 1, 1, 0, 1, 1, 1, 1,\n",
      "        0, 1, 0, 0, 1, 1, 1, 0, 1, 0, 1, 1, 0, 0, 1, 0, 1, 0, 0, 0, 1, 0, 1, 0,\n",
      "        1, 1, 0, 1, 0, 0, 0, 1, 1, 1, 0, 1, 0, 0, 1, 1, 1, 0, 1, 0, 1, 0, 0, 0,\n",
      "        0, 0, 1, 0, 1, 0, 1, 0, 1, 1, 1, 0, 1, 0, 1, 0, 1, 1, 1, 0, 1, 1, 0, 0,\n",
      "        0, 0, 0, 1, 1, 0, 1, 1, 1, 1, 1, 0, 1, 0, 1, 0, 0, 0, 0, 1, 1, 0, 0, 0,\n",
      "        1, 1, 1, 0, 1, 0, 1, 0, 0, 1, 0, 0, 0, 1, 1, 0, 1, 0, 0, 1, 1, 1, 0, 1,\n",
      "        1, 1, 1, 0, 0, 1, 0, 1, 0, 1, 1, 1, 1, 0, 0, 0, 1, 1, 0, 1, 0, 1, 0, 0,\n",
      "        0, 0, 1, 0, 0, 0, 0, 1, 0, 1, 0, 1, 1, 0, 0, 0, 1, 1, 0, 0, 1, 0, 1, 1,\n",
      "        1, 1, 0, 1, 0, 1, 0, 0, 1, 1, 0, 1, 1, 0, 1, 0, 1, 1, 1, 0, 1, 1, 0, 0,\n",
      "        0, 1, 1, 1, 1, 0, 0, 0, 0, 0, 0, 0, 0, 1, 1, 1, 0, 1, 1, 1, 1, 0, 0, 1,\n",
      "        1, 0, 0, 0, 0, 1, 0, 0, 0, 1, 0, 0, 0, 0, 0, 1, 0, 1, 1, 0, 1, 0, 0, 0,\n",
      "        1, 0, 0, 1, 1, 0, 1, 0, 1, 1, 1, 1, 0, 0, 1, 1, 0, 0, 0, 0, 1, 1, 0, 1,\n",
      "        0, 1, 1, 1, 1, 1, 0, 1, 0, 0, 0, 0, 1, 1, 0, 1, 0, 1, 1, 0, 1, 1, 0, 0,\n",
      "        0, 1, 0, 0, 0, 0, 1, 0, 1, 0, 1, 1, 1, 0, 1, 1, 1, 0, 0, 1, 0, 0, 0, 0,\n",
      "        1, 1, 1, 1, 0, 0, 0, 0, 0, 1, 0, 1, 0, 1, 1, 0, 0, 1, 1, 1, 0, 1, 0, 0,\n",
      "        0, 0, 0, 1, 1, 1, 0, 0, 0, 0, 1, 0, 0, 0, 0, 1, 1, 0, 1, 0, 0, 1, 0, 0,\n",
      "        0, 0, 1, 0, 0, 1, 1, 0, 1, 1, 1, 1, 1, 0, 0, 0, 0, 1, 1, 0, 0, 1, 0, 1,\n",
      "        1, 1, 0, 1, 1, 0, 0, 0], device='cuda:0')\n"
     ]
    }
   ],
   "source": [
    "for batch in train_loader:\n",
    "    break\n",
    "print(batch.SentimentText[0])\n",
    "print(batch.SentimentText[0].shape)\n",
    "print(batch.SentimentText[1])\n",
    "print(batch.Sentiment)"
   ]
  },
  {
   "cell_type": "code",
   "execution_count": 44,
   "metadata": {},
   "outputs": [
    {
     "name": "stdout",
     "output_type": "stream",
     "text": [
      "tensor([[    0,   257,  2182,  ...,     1,     1,     1],\n",
      "        [    0,     2,    63,  ...,     1,     1,     1],\n",
      "        [    0,     0,     3,  ...,     1,     1,     1],\n",
      "        ...,\n",
      "        [   55,    19,    46,  ...,     1,     1,     1],\n",
      "        [26945,  4753,  4030,  ...,     1,     1,     1],\n",
      "        [ 1715,     6,   269,  ...,     1,     1,     1]], device='cuda:0')\n",
      "torch.Size([512, 512])\n",
      "tensor([13, 16, 10, 26, 14,  7, 20, 26,  6, 10, 17, 21,  5, 22, 12, 27, 35, 31,\n",
      "        15, 13, 12,  8,  5, 16, 19,  4, 10, 26,  4, 19, 27, 20, 13, 30, 22, 11,\n",
      "        15, 13, 13, 11,  9,  8, 24, 28, 28, 11, 24, 19, 26, 19, 24, 31,  5, 11,\n",
      "        11, 19,  7,  8, 15, 22, 24, 26, 13, 18, 11,  8,  4,  9,  6, 13,  4, 25,\n",
      "         2, 12,  7, 20, 10, 11, 14, 14, 21, 22, 19, 25,  9, 11, 22, 31, 26, 18,\n",
      "        27, 17, 16,  4, 32, 23,  4, 12, 25,  7, 12,  2, 23, 10, 10, 30, 17, 24,\n",
      "        28,  4, 10, 20, 13, 16,  6,  4, 30, 15, 20,  5,  8,  4, 13, 18,  9, 15,\n",
      "        10, 21, 20, 11, 26, 11, 27,  3, 13,  9,  7, 21, 28, 29, 20, 15, 26,  2,\n",
      "        14,  3, 23, 16, 13, 16, 18, 10, 11, 20,  2, 12, 30,  4, 15, 28, 28, 19,\n",
      "        19, 13, 12, 24,  8, 16, 16,  7,  5,  6, 16, 26,  9,  4, 15, 15,  4, 15,\n",
      "         7, 20, 18, 24, 15, 30, 25,  4, 11,  7, 31, 11, 23, 26, 14,  6, 27,  7,\n",
      "         6, 23, 11,  8, 20,  4,  7,  7,  9,  7,  7, 12, 10, 15, 13, 19,  5,  5,\n",
      "        25, 10,  5, 15, 11,  3, 11,  4, 15, 26, 12,  8, 11, 13,  9, 12, 29,  9,\n",
      "        27, 13, 20,  4, 16, 20, 11, 18,  8, 25, 20, 27, 18,  3, 16, 28, 23, 11,\n",
      "        11, 27, 29,  4, 11,  7, 18, 18, 26, 14, 15,  7, 17, 15, 11, 17,  7,  5,\n",
      "        14, 10, 12, 17,  4, 11, 15, 26, 15,  7, 13, 17,  7, 14, 13, 16, 18, 27,\n",
      "        12,  3, 12, 27, 11, 15, 18, 13, 18, 14,  9, 25,  8,  9, 12, 10, 23,  9,\n",
      "        13, 23,  7,  7,  7, 13,  6,  6, 16, 10,  3, 18, 28,  4,  8, 23, 14, 11,\n",
      "        16, 20,  6, 29, 14, 11, 24, 26, 24, 10, 28,  9, 24, 24,  7, 19,  7, 20,\n",
      "        22,  8, 23,  6,  9, 23, 17,  5, 21,  8, 11,  7, 22,  4,  4,  7,  3,  3,\n",
      "         9, 12, 19,  5, 10, 15,  7, 10, 26, 21, 21, 15, 12, 18,  8, 22,  4, 10,\n",
      "        30, 26,  9, 28, 21, 14, 23, 20, 20, 19, 19,  5, 17,  5,  7, 25, 18,  8,\n",
      "        19,  8, 20, 23, 21, 13, 25, 22, 14,  4,  3,  5, 25, 13, 24, 23, 13, 25,\n",
      "        12, 19, 21, 34, 17, 18, 17, 14, 21, 30, 18, 20, 11, 18, 13,  6, 14, 30,\n",
      "         6,  9, 17, 24, 24, 10,  9, 12, 10, 12,  9,  8,  7, 11, 17,  8, 23, 22,\n",
      "        11, 19,  6, 28, 19, 16, 19, 12, 12, 24, 17,  6, 20, 29,  8, 23, 27, 12,\n",
      "        14, 27, 32, 29,  4, 20, 11,  6,  8, 12, 25, 26,  8,  1, 10,  5, 18, 10,\n",
      "        16, 13,  5,  9, 11, 18, 25, 13,  4, 10, 27,  6, 14,  9,  8, 24,  7, 16,\n",
      "        27,  8, 17, 14, 18, 30,  8, 29], device='cuda:0')\n",
      "tensor([1, 1, 0, 1, 1, 1, 0, 0, 1, 0, 1, 1, 1, 0, 0, 0, 1, 0, 1, 0, 1, 0, 1, 1,\n",
      "        1, 1, 1, 1, 1, 0, 0, 0, 0, 0, 1, 0, 0, 0, 0, 0, 1, 0, 1, 0, 1, 0, 1, 1,\n",
      "        1, 0, 1, 1, 1, 0, 0, 1, 1, 1, 0, 1, 1, 0, 1, 0, 0, 1, 1, 1, 0, 1, 1, 0,\n",
      "        1, 1, 0, 0, 1, 1, 1, 1, 1, 1, 1, 0, 0, 1, 0, 1, 0, 0, 0, 0, 1, 0, 0, 1,\n",
      "        0, 1, 0, 0, 0, 0, 1, 0, 1, 1, 0, 0, 0, 1, 1, 0, 1, 1, 1, 0, 1, 0, 1, 0,\n",
      "        0, 0, 1, 0, 1, 0, 1, 1, 1, 1, 0, 1, 0, 0, 0, 0, 1, 0, 0, 1, 1, 1, 1, 0,\n",
      "        0, 1, 0, 0, 0, 1, 0, 0, 0, 0, 1, 0, 0, 0, 0, 0, 1, 0, 1, 0, 1, 1, 1, 1,\n",
      "        1, 0, 0, 1, 1, 0, 0, 0, 1, 1, 0, 1, 1, 1, 1, 1, 0, 0, 0, 1, 0, 1, 0, 1,\n",
      "        1, 0, 0, 0, 0, 0, 1, 1, 1, 0, 1, 0, 0, 0, 1, 0, 0, 0, 0, 0, 1, 0, 0, 0,\n",
      "        0, 0, 1, 1, 1, 1, 0, 1, 1, 0, 0, 1, 1, 0, 0, 1, 1, 0, 0, 0, 1, 0, 0, 0,\n",
      "        1, 0, 1, 1, 0, 0, 0, 0, 1, 1, 0, 1, 1, 0, 1, 1, 0, 0, 0, 0, 0, 0, 0, 0,\n",
      "        1, 0, 1, 0, 0, 0, 1, 0, 1, 0, 1, 1, 0, 0, 0, 0, 1, 0, 0, 0, 1, 1, 1, 0,\n",
      "        0, 1, 0, 0, 1, 0, 0, 0, 1, 1, 0, 0, 1, 0, 1, 1, 0, 0, 1, 0, 0, 1, 1, 0,\n",
      "        0, 1, 0, 1, 0, 1, 0, 1, 1, 0, 1, 1, 1, 0, 1, 0, 0, 1, 1, 0, 0, 1, 1, 1,\n",
      "        1, 1, 0, 0, 1, 0, 0, 0, 0, 1, 0, 0, 0, 1, 1, 1, 1, 1, 1, 1, 1, 0, 0, 1,\n",
      "        1, 0, 0, 1, 1, 0, 0, 1, 1, 0, 0, 1, 0, 0, 1, 1, 0, 1, 1, 0, 1, 1, 1, 0,\n",
      "        0, 0, 1, 0, 1, 1, 1, 0, 1, 1, 1, 1, 1, 0, 0, 0, 0, 0, 1, 1, 0, 1, 1, 0,\n",
      "        1, 1, 1, 1, 0, 0, 1, 0, 0, 1, 0, 0, 1, 0, 0, 1, 1, 0, 0, 1, 0, 1, 0, 0,\n",
      "        0, 1, 1, 1, 1, 0, 0, 1, 1, 0, 0, 1, 1, 0, 1, 1, 1, 0, 0, 1, 0, 0, 0, 0,\n",
      "        1, 1, 1, 0, 1, 1, 1, 0, 1, 1, 1, 1, 0, 1, 0, 1, 1, 1, 1, 1, 1, 1, 1, 1,\n",
      "        1, 0, 0, 0, 1, 1, 1, 0, 0, 1, 0, 0, 1, 1, 0, 1, 0, 0, 1, 1, 1, 1, 1, 0,\n",
      "        0, 0, 0, 1, 1, 0, 1, 1], device='cuda:0')\n"
     ]
    }
   ],
   "source": [
    "for batch in valid_loader:\n",
    "    break\n",
    "print(batch.SentimentText[0])\n",
    "print(batch.SentimentText[0].shape)\n",
    "print(batch.SentimentText[1])\n",
    "print(batch.Sentiment)"
   ]
  },
  {
   "cell_type": "code",
   "execution_count": null,
   "metadata": {},
   "outputs": [],
   "source": []
  }
 ],
 "metadata": {
  "kernelspec": {
   "display_name": "Python 3",
   "language": "python",
   "name": "python3"
  },
  "language_info": {
   "codemirror_mode": {
    "name": "ipython",
    "version": 3
   },
   "file_extension": ".py",
   "mimetype": "text/x-python",
   "name": "python",
   "nbconvert_exporter": "python",
   "pygments_lexer": "ipython3",
   "version": "3.7.4"
  }
 },
 "nbformat": 4,
 "nbformat_minor": 2
}
